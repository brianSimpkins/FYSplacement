{
 "cells": [
  {
   "cell_type": "markdown",
   "metadata": {},
   "source": [
    "## Pitzer College FYS Placement Program\n",
    "\n",
    "__Authors: Brian Simpkins and Professor Sarah Gilman__\n",
    "\n",
    "__Written in the fall of 2022__"
   ]
  },
  {
   "cell_type": "code",
   "execution_count": 1,
   "metadata": {},
   "outputs": [],
   "source": [
    "# First let's set up some imports\n",
    "import numpy as np\n",
    "import pandas as pd\n",
    "import unicodedata as ud\n",
    "import math\n",
    "from random import sample"
   ]
  },
  {
   "cell_type": "code",
   "execution_count": 29,
   "metadata": {},
   "outputs": [],
   "source": [
    "# Now let's collect our data\n",
    "student_data = \"C:/Users/Brian/Documents/2022Fall/FYSplacement/data/FYS Fall 2021 Results - Active Commits 20210719-171403_deidentified.csv\"\n",
    "df = pd.read_csv(student_data)\n",
    "\n",
    "# Separate forms by completion\n",
    "completed_forms = df[df[\"Completed Form\"] != \"No\"]\n",
    "incomplete_forms = df[df[\"Completed Form\"] != \"Yes\"]\n",
    "num_students = len(completed_forms)\n",
    "\n",
    "# Remove df to free memory\n",
    "del df"
   ]
  },
  {
   "cell_type": "code",
   "execution_count": 30,
   "metadata": {},
   "outputs": [],
   "source": [
    "# Convert all classes to normalized unicode\n",
    "completed_forms[\"Preference 1\"] = [ud.normalize(\"NFKC\", x) for x in completed_forms[\"Preference 1\"]]\n",
    "completed_forms[\"Preference 2\"] = [ud.normalize(\"NFKC\", x) for x in completed_forms[\"Preference 2\"]]\n",
    "completed_forms[\"Preference 3\"] = [ud.normalize(\"NFKC\", x) for x in completed_forms[\"Preference 3\"]]\n",
    "completed_forms[\"Preference 4\"] = [ud.normalize(\"NFKC\", x) for x in completed_forms[\"Preference 4\"]]\n",
    "completed_forms[\"Preference 5\"] = [ud.normalize(\"NFKC\", x) for x in completed_forms[\"Preference 5\"]]"
   ]
  },
  {
   "cell_type": "code",
   "execution_count": 4,
   "metadata": {},
   "outputs": [],
   "source": [
    "# Gather a list of all classes\n",
    "classes = set()\n",
    "classes.update(completed_forms[\"Preference 1\"])\n",
    "classes.update(completed_forms[\"Preference 2\"])\n",
    "classes.update(completed_forms[\"Preference 3\"])\n",
    "classes.update(completed_forms[\"Preference 4\"])\n",
    "classes.update(completed_forms[\"Preference 5\"])"
   ]
  },
  {
   "cell_type": "code",
   "execution_count": 5,
   "metadata": {},
   "outputs": [],
   "source": [
    "# Determine class size\n",
    "large_class_size = math.ceil(num_students / len(classes))\n",
    "small_class_size = large_class_size - 1\n",
    "small_class_num = len(classes) * large_class_size - num_students"
   ]
  },
  {
   "cell_type": "code",
   "execution_count": 6,
   "metadata": {},
   "outputs": [],
   "source": [
    "# Build class - preference dictionary\n",
    "class_pref = {x: {\"1\":[], \"n1\":0, \"2\":[], \"n2\":0, \"3\":[], \"n3\":0, \"4\":[], \"n4\":0, \"5\":[], \"n5\":0} for x in classes}\n",
    "\n",
    "for i in range(len(completed_forms[\"CX ID\"])):\n",
    "    # add student id to class_pref dict\n",
    "    class_pref[completed_forms[\"Preference 1\"].iloc[i]][\"1\"].append(completed_forms[\"CX ID\"].iloc[i])\n",
    "    class_pref[completed_forms[\"Preference 1\"].iloc[i]][\"n1\"] += 1\n",
    "    class_pref[completed_forms[\"Preference 2\"].iloc[i]][\"n2\"] += 1\n",
    "    class_pref[completed_forms[\"Preference 2\"].iloc[i]][\"2\"].append(completed_forms[\"CX ID\"].iloc[i])\n",
    "    class_pref[completed_forms[\"Preference 3\"].iloc[i]][\"n3\"] += 1\n",
    "    class_pref[completed_forms[\"Preference 3\"].iloc[i]][\"3\"].append(completed_forms[\"CX ID\"].iloc[i])\n",
    "    class_pref[completed_forms[\"Preference 4\"].iloc[i]][\"n4\"] += 1\n",
    "    class_pref[completed_forms[\"Preference 4\"].iloc[i]][\"4\"].append(completed_forms[\"CX ID\"].iloc[i])\n",
    "    class_pref[completed_forms[\"Preference 5\"].iloc[i]][\"n5\"] += 1\n",
    "    class_pref[completed_forms[\"Preference 5\"].iloc[i]][\"5\"].append(completed_forms[\"CX ID\"].iloc[i])\n",
    "\n",
    "# Convert to dataframe\n",
    "class_pref = pd.DataFrame(class_pref).T"
   ]
  },
  {
   "cell_type": "code",
   "execution_count": 7,
   "metadata": {},
   "outputs": [],
   "source": [
    "# Determine popularity at given preference depth\n",
    "class_pref[\"top2\"] = class_pref[\"n1\"] + class_pref[\"n2\"]\n",
    "class_pref[\"top3\"] = class_pref[\"top2\"] + class_pref[\"n3\"]\n",
    "class_pref[\"top4\"] = class_pref[\"top3\"] + class_pref[\"n4\"]\n",
    "class_pref[\"top5\"] = class_pref[\"top4\"] + class_pref[\"n5\"]\n",
    "\n",
    "class_pref = class_pref.sort_values([\"top3\"])"
   ]
  },
  {
   "cell_type": "code",
   "execution_count": 8,
   "metadata": {},
   "outputs": [],
   "source": [
    "# If there aren't enough students to fill a class, reorder and try again!\n",
    "def place_students(class_preferences):\n",
    "\n",
    "    num_small_classes = small_class_num\n",
    "\n",
    "    student_assignments = {}\n",
    "\n",
    "    # Iterate through the classes, starting with the least popular\n",
    "    for class_num, curr_class in enumerate(class_preferences.index):\n",
    "\n",
    "        # Determine the class size - less popular classes will have the smaller class sizes\n",
    "        if num_small_classes > 0:\n",
    "            curr_size = small_class_size\n",
    "            num_small_classes -= 1\n",
    "        else:\n",
    "            curr_size = large_class_size\n",
    "\n",
    "        # Give open spots to students who requested, giving greater weight to higher preference\n",
    "        curr_preference = 1\n",
    "        while curr_size > 0 and curr_preference <= 5:\n",
    "            # Get all students with the current preference level\n",
    "            curr_students = class_preferences.loc[curr_class][str(curr_preference)]\n",
    "            # Remove students who have already been placed\n",
    "            curr_students = [student for student in curr_students if student not in student_assignments]\n",
    "            # If there are more students at this preference level than we are looking for\n",
    "            if len(curr_students) > curr_size:\n",
    "                curr_students = sample(curr_students, curr_size)\n",
    "            \n",
    "            for student in curr_students:\n",
    "                # Assign student\n",
    "                student_assignments[student] = curr_class\n",
    "                # Fill one slot\n",
    "                curr_size -= 1\n",
    "            \n",
    "            curr_preference += 1\n",
    "        \n",
    "        # If we went through all preferences and the class still isn't filled, swap the class up and try again!\n",
    "        if curr_size > 0:\n",
    "            print(\"Class \" + curr_class + \" cannot be filled. Swapping up and trying again!\")\n",
    "            class_preferences = class_preferences.iloc[np.r_[0: class_num - 1, class_num, class_num - 1, class_num + 1 : len(class_preferences)]]\n",
    "            return place_students(class_preferences)\n",
    "    \n",
    "    return student_assignments\n"
   ]
  },
  {
   "cell_type": "code",
   "execution_count": 9,
   "metadata": {},
   "outputs": [],
   "source": [
    "# get a score for how \"happy\" people are in their classes\n",
    "def get_score(student_assignments):\n",
    "    total = 0\n",
    "    worst_placement = 0\n",
    "\n",
    "    for student, course in student_assignments.items():\n",
    "        prefs = completed_forms.loc[completed_forms[\"CX ID\"] == student].values.tolist()[0][-5:]\n",
    "        assigned_class = student_assignments[student]\n",
    "        total += prefs.index(assigned_class)\n",
    "\n",
    "        worst_placement = max(worst_placement, prefs.index(assigned_class))\n",
    "    \n",
    "    ave_happiness = total / num_students\n",
    "    return ave_happiness, worst_placement"
   ]
  },
  {
   "cell_type": "code",
   "execution_count": 10,
   "metadata": {},
   "outputs": [
    {
     "name": "stdout",
     "output_type": "stream",
     "text": [
      "Class Borowski, Thomas - \"Is There a Science of Dreaming?\" cannot be filled. Swapping up and trying again!\n",
      "Class Guillermo, Steffanie - \"Social Identity\" cannot be filled. Swapping up and trying again!\n",
      "Class Borowski, Thomas - \"Is There a Science of Dreaming?\" cannot be filled. Swapping up and trying again!\n",
      "Class Guillermo, Steffanie - \"Social Identity\" cannot be filled. Swapping up and trying again!\n",
      "Class Borowski, Thomas - \"Is There a Science of Dreaming?\" cannot be filled. Swapping up and trying again!\n",
      "Class Guillermo, Steffanie - \"Social Identity\" cannot be filled. Swapping up and trying again!\n",
      "Class Guillermo, Steffanie - \"Social Identity\" cannot be filled. Swapping up and trying again!\n",
      "Class Borowski, Thomas - \"Is There a Science of Dreaming?\" cannot be filled. Swapping up and trying again!\n",
      "Class Guillermo, Steffanie - \"Social Identity\" cannot be filled. Swapping up and trying again!\n",
      "Class Guillermo, Steffanie - \"Social Identity\" cannot be filled. Swapping up and trying again!\n",
      "Class Borowski, Thomas - \"Is There a Science of Dreaming?\" cannot be filled. Swapping up and trying again!\n",
      "Class Berenfeld, Michelle - \"The Ancient World—Pasts, Presents, Futures\" cannot be filled. Swapping up and trying again!\n",
      "Class Borowski, Thomas - \"Is There a Science of Dreaming?\" cannot be filled. Swapping up and trying again!\n",
      "Class Guillermo, Steffanie - \"Social Identity\" cannot be filled. Swapping up and trying again!\n",
      "Class Borowski, Thomas - \"Is There a Science of Dreaming?\" cannot be filled. Swapping up and trying again!\n",
      "Class Guillermo, Steffanie - \"Social Identity\" cannot be filled. Swapping up and trying again!\n",
      "Class Guillermo, Steffanie - \"Social Identity\" cannot be filled. Swapping up and trying again!\n",
      "Class Guillermo, Steffanie - \"Social Identity\" cannot be filled. Swapping up and trying again!\n",
      "Class Borowski, Thomas - \"Is There a Science of Dreaming?\" cannot be filled. Swapping up and trying again!\n",
      "Class Berenfeld, Michelle - \"The Ancient World—Pasts, Presents, Futures\" cannot be filled. Swapping up and trying again!\n",
      "Class Guillermo, Steffanie - \"Social Identity\" cannot be filled. Swapping up and trying again!\n",
      "Class Guillermo, Steffanie - \"Social Identity\" cannot be filled. Swapping up and trying again!\n",
      "Class Borowski, Thomas - \"Is There a Science of Dreaming?\" cannot be filled. Swapping up and trying again!\n",
      "Class Guillermo, Steffanie - \"Social Identity\" cannot be filled. Swapping up and trying again!\n",
      "Class Borowski, Thomas - \"Is There a Science of Dreaming?\" cannot be filled. Swapping up and trying again!\n",
      "Class Guillermo, Steffanie - \"Social Identity\" cannot be filled. Swapping up and trying again!\n",
      "Class Guillermo, Steffanie - \"Social Identity\" cannot be filled. Swapping up and trying again!\n",
      "Class Borowski, Thomas - \"Is There a Science of Dreaming?\" cannot be filled. Swapping up and trying again!\n",
      "Class Guillermo, Steffanie - \"Social Identity\" cannot be filled. Swapping up and trying again!\n",
      "Class Borowski, Thomas - \"Is There a Science of Dreaming?\" cannot be filled. Swapping up and trying again!\n",
      "Class Guillermo, Steffanie - \"Social Identity\" cannot be filled. Swapping up and trying again!\n",
      "Class Guillermo, Steffanie - \"Social Identity\" cannot be filled. Swapping up and trying again!\n",
      "Class Borowski, Thomas - \"Is There a Science of Dreaming?\" cannot be filled. Swapping up and trying again!\n",
      "Class Guillermo, Steffanie - \"Social Identity\" cannot be filled. Swapping up and trying again!\n",
      "Class Guillermo, Steffanie - \"Social Identity\" cannot be filled. Swapping up and trying again!\n",
      "Class Borowski, Thomas - \"Is There a Science of Dreaming?\" cannot be filled. Swapping up and trying again!\n",
      "Class Guillermo, Steffanie - \"Social Identity\" cannot be filled. Swapping up and trying again!\n",
      "Class Guillermo, Steffanie - \"Social Identity\" cannot be filled. Swapping up and trying again!\n",
      "Class Borowski, Thomas - \"Is There a Science of Dreaming?\" cannot be filled. Swapping up and trying again!\n",
      "Class Berenfeld, Michelle - \"The Ancient World—Pasts, Presents, Futures\" cannot be filled. Swapping up and trying again!\n",
      "Class Borowski, Thomas - \"Is There a Science of Dreaming?\" cannot be filled. Swapping up and trying again!\n",
      "Class Guillermo, Steffanie - \"Social Identity\" cannot be filled. Swapping up and trying again!\n",
      "Class Borowski, Thomas - \"Is There a Science of Dreaming?\" cannot be filled. Swapping up and trying again!\n",
      "Class Guillermo, Steffanie - \"Social Identity\" cannot be filled. Swapping up and trying again!\n",
      "Class Guillermo, Steffanie - \"Social Identity\" cannot be filled. Swapping up and trying again!\n"
     ]
    }
   ],
   "source": [
    "# get a really good student assignment\n",
    "min_student_assignments = {}\n",
    "min_student_happiness = 5\n",
    "min_worst_placement = 5\n",
    "\n",
    "# iterate 500 times, make sure everyone is happy!\n",
    "for i in range(100):\n",
    "    student_assigments = place_students(class_pref.copy())\n",
    "    happiness, worst_placement = get_score(student_assigments)\n",
    "    if worst_placement <= min_worst_placement and happiness <= min_student_happiness:\n",
    "        min_student_assignments = student_assigments\n",
    "        min_worst_placement = worst_placement\n",
    "        min_student_happiness = happiness"
   ]
  },
  {
   "cell_type": "code",
   "execution_count": 27,
   "metadata": {},
   "outputs": [
    {
     "data": {
      "text/plain": [
       "Index(['Preference 1', 'Preference 2', 'Preference 3', 'Preference 4',\n",
       "       'Preference 5'],\n",
       "      dtype='object')"
      ]
     },
     "execution_count": 27,
     "metadata": {},
     "output_type": "execute_result"
    }
   ],
   "source": [
    "completed_forms.columns[-5:]"
   ]
  },
  {
   "cell_type": "code",
   "execution_count": 33,
   "metadata": {},
   "outputs": [
    {
     "ename": "PermissionError",
     "evalue": "[Errno 13] Permission denied: '.'",
     "output_type": "error",
     "traceback": [
      "\u001b[1;31m---------------------------------------------------------------------------\u001b[0m",
      "\u001b[1;31mPermissionError\u001b[0m                           Traceback (most recent call last)",
      "\u001b[1;32mc:\\Users\\Brian\\Documents\\2022Fall\\FYSplacement\\FYS_placement.ipynb Cell 13'\u001b[0m in \u001b[0;36m<module>\u001b[1;34m\u001b[0m\n\u001b[0;32m      <a href='vscode-notebook-cell:/c%3A/Users/Brian/Documents/2022Fall/FYSplacement/FYS_placement.ipynb#ch0000012?line=1'>2</a>\u001b[0m new_col \u001b[39m=\u001b[39m output[\u001b[39m\"\u001b[39m\u001b[39mCX ID\u001b[39m\u001b[39m\"\u001b[39m]\u001b[39m.\u001b[39mapply(\u001b[39mlambda\u001b[39;00m x : student_assigments[x])\n\u001b[0;32m      <a href='vscode-notebook-cell:/c%3A/Users/Brian/Documents/2022Fall/FYSplacement/FYS_placement.ipynb#ch0000012?line=2'>3</a>\u001b[0m output\u001b[39m.\u001b[39minsert(\u001b[39m1\u001b[39m, \u001b[39m\"\u001b[39m\u001b[39mAssignment\u001b[39m\u001b[39m\"\u001b[39m, new_col)\n\u001b[1;32m----> <a href='vscode-notebook-cell:/c%3A/Users/Brian/Documents/2022Fall/FYSplacement/FYS_placement.ipynb#ch0000012?line=3'>4</a>\u001b[0m output\u001b[39m.\u001b[39;49mto_csv(\u001b[39m\"\u001b[39;49m\u001b[39m.\u001b[39;49m\u001b[39m\"\u001b[39;49m, index \u001b[39m=\u001b[39;49m \u001b[39mFalse\u001b[39;49;00m)\n",
      "File \u001b[1;32m~\\AppData\\Local\\Programs\\Python\\Python310\\lib\\site-packages\\pandas\\core\\generic.py:3563\u001b[0m, in \u001b[0;36mNDFrame.to_csv\u001b[1;34m(self, path_or_buf, sep, na_rep, float_format, columns, header, index, index_label, mode, encoding, compression, quoting, quotechar, line_terminator, chunksize, date_format, doublequote, escapechar, decimal, errors, storage_options)\u001b[0m\n\u001b[0;32m   <a href='file:///c%3A/Users/Brian/AppData/Local/Programs/Python/Python310/lib/site-packages/pandas/core/generic.py?line=3551'>3552</a>\u001b[0m df \u001b[39m=\u001b[39m \u001b[39mself\u001b[39m \u001b[39mif\u001b[39;00m \u001b[39misinstance\u001b[39m(\u001b[39mself\u001b[39m, ABCDataFrame) \u001b[39melse\u001b[39;00m \u001b[39mself\u001b[39m\u001b[39m.\u001b[39mto_frame()\n\u001b[0;32m   <a href='file:///c%3A/Users/Brian/AppData/Local/Programs/Python/Python310/lib/site-packages/pandas/core/generic.py?line=3553'>3554</a>\u001b[0m formatter \u001b[39m=\u001b[39m DataFrameFormatter(\n\u001b[0;32m   <a href='file:///c%3A/Users/Brian/AppData/Local/Programs/Python/Python310/lib/site-packages/pandas/core/generic.py?line=3554'>3555</a>\u001b[0m     frame\u001b[39m=\u001b[39mdf,\n\u001b[0;32m   <a href='file:///c%3A/Users/Brian/AppData/Local/Programs/Python/Python310/lib/site-packages/pandas/core/generic.py?line=3555'>3556</a>\u001b[0m     header\u001b[39m=\u001b[39mheader,\n\u001b[1;32m   (...)\u001b[0m\n\u001b[0;32m   <a href='file:///c%3A/Users/Brian/AppData/Local/Programs/Python/Python310/lib/site-packages/pandas/core/generic.py?line=3559'>3560</a>\u001b[0m     decimal\u001b[39m=\u001b[39mdecimal,\n\u001b[0;32m   <a href='file:///c%3A/Users/Brian/AppData/Local/Programs/Python/Python310/lib/site-packages/pandas/core/generic.py?line=3560'>3561</a>\u001b[0m )\n\u001b[1;32m-> <a href='file:///c%3A/Users/Brian/AppData/Local/Programs/Python/Python310/lib/site-packages/pandas/core/generic.py?line=3562'>3563</a>\u001b[0m \u001b[39mreturn\u001b[39;00m DataFrameRenderer(formatter)\u001b[39m.\u001b[39;49mto_csv(\n\u001b[0;32m   <a href='file:///c%3A/Users/Brian/AppData/Local/Programs/Python/Python310/lib/site-packages/pandas/core/generic.py?line=3563'>3564</a>\u001b[0m     path_or_buf,\n\u001b[0;32m   <a href='file:///c%3A/Users/Brian/AppData/Local/Programs/Python/Python310/lib/site-packages/pandas/core/generic.py?line=3564'>3565</a>\u001b[0m     line_terminator\u001b[39m=\u001b[39;49mline_terminator,\n\u001b[0;32m   <a href='file:///c%3A/Users/Brian/AppData/Local/Programs/Python/Python310/lib/site-packages/pandas/core/generic.py?line=3565'>3566</a>\u001b[0m     sep\u001b[39m=\u001b[39;49msep,\n\u001b[0;32m   <a href='file:///c%3A/Users/Brian/AppData/Local/Programs/Python/Python310/lib/site-packages/pandas/core/generic.py?line=3566'>3567</a>\u001b[0m     encoding\u001b[39m=\u001b[39;49mencoding,\n\u001b[0;32m   <a href='file:///c%3A/Users/Brian/AppData/Local/Programs/Python/Python310/lib/site-packages/pandas/core/generic.py?line=3567'>3568</a>\u001b[0m     errors\u001b[39m=\u001b[39;49merrors,\n\u001b[0;32m   <a href='file:///c%3A/Users/Brian/AppData/Local/Programs/Python/Python310/lib/site-packages/pandas/core/generic.py?line=3568'>3569</a>\u001b[0m     compression\u001b[39m=\u001b[39;49mcompression,\n\u001b[0;32m   <a href='file:///c%3A/Users/Brian/AppData/Local/Programs/Python/Python310/lib/site-packages/pandas/core/generic.py?line=3569'>3570</a>\u001b[0m     quoting\u001b[39m=\u001b[39;49mquoting,\n\u001b[0;32m   <a href='file:///c%3A/Users/Brian/AppData/Local/Programs/Python/Python310/lib/site-packages/pandas/core/generic.py?line=3570'>3571</a>\u001b[0m     columns\u001b[39m=\u001b[39;49mcolumns,\n\u001b[0;32m   <a href='file:///c%3A/Users/Brian/AppData/Local/Programs/Python/Python310/lib/site-packages/pandas/core/generic.py?line=3571'>3572</a>\u001b[0m     index_label\u001b[39m=\u001b[39;49mindex_label,\n\u001b[0;32m   <a href='file:///c%3A/Users/Brian/AppData/Local/Programs/Python/Python310/lib/site-packages/pandas/core/generic.py?line=3572'>3573</a>\u001b[0m     mode\u001b[39m=\u001b[39;49mmode,\n\u001b[0;32m   <a href='file:///c%3A/Users/Brian/AppData/Local/Programs/Python/Python310/lib/site-packages/pandas/core/generic.py?line=3573'>3574</a>\u001b[0m     chunksize\u001b[39m=\u001b[39;49mchunksize,\n\u001b[0;32m   <a href='file:///c%3A/Users/Brian/AppData/Local/Programs/Python/Python310/lib/site-packages/pandas/core/generic.py?line=3574'>3575</a>\u001b[0m     quotechar\u001b[39m=\u001b[39;49mquotechar,\n\u001b[0;32m   <a href='file:///c%3A/Users/Brian/AppData/Local/Programs/Python/Python310/lib/site-packages/pandas/core/generic.py?line=3575'>3576</a>\u001b[0m     date_format\u001b[39m=\u001b[39;49mdate_format,\n\u001b[0;32m   <a href='file:///c%3A/Users/Brian/AppData/Local/Programs/Python/Python310/lib/site-packages/pandas/core/generic.py?line=3576'>3577</a>\u001b[0m     doublequote\u001b[39m=\u001b[39;49mdoublequote,\n\u001b[0;32m   <a href='file:///c%3A/Users/Brian/AppData/Local/Programs/Python/Python310/lib/site-packages/pandas/core/generic.py?line=3577'>3578</a>\u001b[0m     escapechar\u001b[39m=\u001b[39;49mescapechar,\n\u001b[0;32m   <a href='file:///c%3A/Users/Brian/AppData/Local/Programs/Python/Python310/lib/site-packages/pandas/core/generic.py?line=3578'>3579</a>\u001b[0m     storage_options\u001b[39m=\u001b[39;49mstorage_options,\n\u001b[0;32m   <a href='file:///c%3A/Users/Brian/AppData/Local/Programs/Python/Python310/lib/site-packages/pandas/core/generic.py?line=3579'>3580</a>\u001b[0m )\n",
      "File \u001b[1;32m~\\AppData\\Local\\Programs\\Python\\Python310\\lib\\site-packages\\pandas\\io\\formats\\format.py:1180\u001b[0m, in \u001b[0;36mDataFrameRenderer.to_csv\u001b[1;34m(self, path_or_buf, encoding, sep, columns, index_label, mode, compression, quoting, quotechar, line_terminator, chunksize, date_format, doublequote, escapechar, errors, storage_options)\u001b[0m\n\u001b[0;32m   <a href='file:///c%3A/Users/Brian/AppData/Local/Programs/Python/Python310/lib/site-packages/pandas/io/formats/format.py?line=1158'>1159</a>\u001b[0m     created_buffer \u001b[39m=\u001b[39m \u001b[39mFalse\u001b[39;00m\n\u001b[0;32m   <a href='file:///c%3A/Users/Brian/AppData/Local/Programs/Python/Python310/lib/site-packages/pandas/io/formats/format.py?line=1160'>1161</a>\u001b[0m csv_formatter \u001b[39m=\u001b[39m CSVFormatter(\n\u001b[0;32m   <a href='file:///c%3A/Users/Brian/AppData/Local/Programs/Python/Python310/lib/site-packages/pandas/io/formats/format.py?line=1161'>1162</a>\u001b[0m     path_or_buf\u001b[39m=\u001b[39mpath_or_buf,\n\u001b[0;32m   <a href='file:///c%3A/Users/Brian/AppData/Local/Programs/Python/Python310/lib/site-packages/pandas/io/formats/format.py?line=1162'>1163</a>\u001b[0m     line_terminator\u001b[39m=\u001b[39mline_terminator,\n\u001b[1;32m   (...)\u001b[0m\n\u001b[0;32m   <a href='file:///c%3A/Users/Brian/AppData/Local/Programs/Python/Python310/lib/site-packages/pandas/io/formats/format.py?line=1177'>1178</a>\u001b[0m     formatter\u001b[39m=\u001b[39m\u001b[39mself\u001b[39m\u001b[39m.\u001b[39mfmt,\n\u001b[0;32m   <a href='file:///c%3A/Users/Brian/AppData/Local/Programs/Python/Python310/lib/site-packages/pandas/io/formats/format.py?line=1178'>1179</a>\u001b[0m )\n\u001b[1;32m-> <a href='file:///c%3A/Users/Brian/AppData/Local/Programs/Python/Python310/lib/site-packages/pandas/io/formats/format.py?line=1179'>1180</a>\u001b[0m csv_formatter\u001b[39m.\u001b[39;49msave()\n\u001b[0;32m   <a href='file:///c%3A/Users/Brian/AppData/Local/Programs/Python/Python310/lib/site-packages/pandas/io/formats/format.py?line=1181'>1182</a>\u001b[0m \u001b[39mif\u001b[39;00m created_buffer:\n\u001b[0;32m   <a href='file:///c%3A/Users/Brian/AppData/Local/Programs/Python/Python310/lib/site-packages/pandas/io/formats/format.py?line=1182'>1183</a>\u001b[0m     \u001b[39massert\u001b[39;00m \u001b[39misinstance\u001b[39m(path_or_buf, StringIO)\n",
      "File \u001b[1;32m~\\AppData\\Local\\Programs\\Python\\Python310\\lib\\site-packages\\pandas\\io\\formats\\csvs.py:241\u001b[0m, in \u001b[0;36mCSVFormatter.save\u001b[1;34m(self)\u001b[0m\n\u001b[0;32m    <a href='file:///c%3A/Users/Brian/AppData/Local/Programs/Python/Python310/lib/site-packages/pandas/io/formats/csvs.py?line=236'>237</a>\u001b[0m \u001b[39m\"\"\"\u001b[39;00m\n\u001b[0;32m    <a href='file:///c%3A/Users/Brian/AppData/Local/Programs/Python/Python310/lib/site-packages/pandas/io/formats/csvs.py?line=237'>238</a>\u001b[0m \u001b[39mCreate the writer & save.\u001b[39;00m\n\u001b[0;32m    <a href='file:///c%3A/Users/Brian/AppData/Local/Programs/Python/Python310/lib/site-packages/pandas/io/formats/csvs.py?line=238'>239</a>\u001b[0m \u001b[39m\"\"\"\u001b[39;00m\n\u001b[0;32m    <a href='file:///c%3A/Users/Brian/AppData/Local/Programs/Python/Python310/lib/site-packages/pandas/io/formats/csvs.py?line=239'>240</a>\u001b[0m \u001b[39m# apply compression and byte/text conversion\u001b[39;00m\n\u001b[1;32m--> <a href='file:///c%3A/Users/Brian/AppData/Local/Programs/Python/Python310/lib/site-packages/pandas/io/formats/csvs.py?line=240'>241</a>\u001b[0m \u001b[39mwith\u001b[39;00m get_handle(\n\u001b[0;32m    <a href='file:///c%3A/Users/Brian/AppData/Local/Programs/Python/Python310/lib/site-packages/pandas/io/formats/csvs.py?line=241'>242</a>\u001b[0m     \u001b[39mself\u001b[39;49m\u001b[39m.\u001b[39;49mfilepath_or_buffer,\n\u001b[0;32m    <a href='file:///c%3A/Users/Brian/AppData/Local/Programs/Python/Python310/lib/site-packages/pandas/io/formats/csvs.py?line=242'>243</a>\u001b[0m     \u001b[39mself\u001b[39;49m\u001b[39m.\u001b[39;49mmode,\n\u001b[0;32m    <a href='file:///c%3A/Users/Brian/AppData/Local/Programs/Python/Python310/lib/site-packages/pandas/io/formats/csvs.py?line=243'>244</a>\u001b[0m     encoding\u001b[39m=\u001b[39;49m\u001b[39mself\u001b[39;49m\u001b[39m.\u001b[39;49mencoding,\n\u001b[0;32m    <a href='file:///c%3A/Users/Brian/AppData/Local/Programs/Python/Python310/lib/site-packages/pandas/io/formats/csvs.py?line=244'>245</a>\u001b[0m     errors\u001b[39m=\u001b[39;49m\u001b[39mself\u001b[39;49m\u001b[39m.\u001b[39;49merrors,\n\u001b[0;32m    <a href='file:///c%3A/Users/Brian/AppData/Local/Programs/Python/Python310/lib/site-packages/pandas/io/formats/csvs.py?line=245'>246</a>\u001b[0m     compression\u001b[39m=\u001b[39;49m\u001b[39mself\u001b[39;49m\u001b[39m.\u001b[39;49mcompression,\n\u001b[0;32m    <a href='file:///c%3A/Users/Brian/AppData/Local/Programs/Python/Python310/lib/site-packages/pandas/io/formats/csvs.py?line=246'>247</a>\u001b[0m     storage_options\u001b[39m=\u001b[39;49m\u001b[39mself\u001b[39;49m\u001b[39m.\u001b[39;49mstorage_options,\n\u001b[0;32m    <a href='file:///c%3A/Users/Brian/AppData/Local/Programs/Python/Python310/lib/site-packages/pandas/io/formats/csvs.py?line=247'>248</a>\u001b[0m ) \u001b[39mas\u001b[39;00m handles:\n\u001b[0;32m    <a href='file:///c%3A/Users/Brian/AppData/Local/Programs/Python/Python310/lib/site-packages/pandas/io/formats/csvs.py?line=248'>249</a>\u001b[0m \n\u001b[0;32m    <a href='file:///c%3A/Users/Brian/AppData/Local/Programs/Python/Python310/lib/site-packages/pandas/io/formats/csvs.py?line=249'>250</a>\u001b[0m     \u001b[39m# Note: self.encoding is irrelevant here\u001b[39;00m\n\u001b[0;32m    <a href='file:///c%3A/Users/Brian/AppData/Local/Programs/Python/Python310/lib/site-packages/pandas/io/formats/csvs.py?line=250'>251</a>\u001b[0m     \u001b[39mself\u001b[39m\u001b[39m.\u001b[39mwriter \u001b[39m=\u001b[39m csvlib\u001b[39m.\u001b[39mwriter(\n\u001b[0;32m    <a href='file:///c%3A/Users/Brian/AppData/Local/Programs/Python/Python310/lib/site-packages/pandas/io/formats/csvs.py?line=251'>252</a>\u001b[0m         handles\u001b[39m.\u001b[39mhandle,\n\u001b[0;32m    <a href='file:///c%3A/Users/Brian/AppData/Local/Programs/Python/Python310/lib/site-packages/pandas/io/formats/csvs.py?line=252'>253</a>\u001b[0m         lineterminator\u001b[39m=\u001b[39m\u001b[39mself\u001b[39m\u001b[39m.\u001b[39mline_terminator,\n\u001b[1;32m   (...)\u001b[0m\n\u001b[0;32m    <a href='file:///c%3A/Users/Brian/AppData/Local/Programs/Python/Python310/lib/site-packages/pandas/io/formats/csvs.py?line=257'>258</a>\u001b[0m         quotechar\u001b[39m=\u001b[39m\u001b[39mself\u001b[39m\u001b[39m.\u001b[39mquotechar,\n\u001b[0;32m    <a href='file:///c%3A/Users/Brian/AppData/Local/Programs/Python/Python310/lib/site-packages/pandas/io/formats/csvs.py?line=258'>259</a>\u001b[0m     )\n\u001b[0;32m    <a href='file:///c%3A/Users/Brian/AppData/Local/Programs/Python/Python310/lib/site-packages/pandas/io/formats/csvs.py?line=260'>261</a>\u001b[0m     \u001b[39mself\u001b[39m\u001b[39m.\u001b[39m_save()\n",
      "File \u001b[1;32m~\\AppData\\Local\\Programs\\Python\\Python310\\lib\\site-packages\\pandas\\io\\common.py:789\u001b[0m, in \u001b[0;36mget_handle\u001b[1;34m(path_or_buf, mode, encoding, compression, memory_map, is_text, errors, storage_options)\u001b[0m\n\u001b[0;32m    <a href='file:///c%3A/Users/Brian/AppData/Local/Programs/Python/Python310/lib/site-packages/pandas/io/common.py?line=783'>784</a>\u001b[0m \u001b[39melif\u001b[39;00m \u001b[39misinstance\u001b[39m(handle, \u001b[39mstr\u001b[39m):\n\u001b[0;32m    <a href='file:///c%3A/Users/Brian/AppData/Local/Programs/Python/Python310/lib/site-packages/pandas/io/common.py?line=784'>785</a>\u001b[0m     \u001b[39m# Check whether the filename is to be opened in binary mode.\u001b[39;00m\n\u001b[0;32m    <a href='file:///c%3A/Users/Brian/AppData/Local/Programs/Python/Python310/lib/site-packages/pandas/io/common.py?line=785'>786</a>\u001b[0m     \u001b[39m# Binary mode does not support 'encoding' and 'newline'.\u001b[39;00m\n\u001b[0;32m    <a href='file:///c%3A/Users/Brian/AppData/Local/Programs/Python/Python310/lib/site-packages/pandas/io/common.py?line=786'>787</a>\u001b[0m     \u001b[39mif\u001b[39;00m ioargs\u001b[39m.\u001b[39mencoding \u001b[39mand\u001b[39;00m \u001b[39m\"\u001b[39m\u001b[39mb\u001b[39m\u001b[39m\"\u001b[39m \u001b[39mnot\u001b[39;00m \u001b[39min\u001b[39;00m ioargs\u001b[39m.\u001b[39mmode:\n\u001b[0;32m    <a href='file:///c%3A/Users/Brian/AppData/Local/Programs/Python/Python310/lib/site-packages/pandas/io/common.py?line=787'>788</a>\u001b[0m         \u001b[39m# Encoding\u001b[39;00m\n\u001b[1;32m--> <a href='file:///c%3A/Users/Brian/AppData/Local/Programs/Python/Python310/lib/site-packages/pandas/io/common.py?line=788'>789</a>\u001b[0m         handle \u001b[39m=\u001b[39m \u001b[39mopen\u001b[39;49m(\n\u001b[0;32m    <a href='file:///c%3A/Users/Brian/AppData/Local/Programs/Python/Python310/lib/site-packages/pandas/io/common.py?line=789'>790</a>\u001b[0m             handle,\n\u001b[0;32m    <a href='file:///c%3A/Users/Brian/AppData/Local/Programs/Python/Python310/lib/site-packages/pandas/io/common.py?line=790'>791</a>\u001b[0m             ioargs\u001b[39m.\u001b[39;49mmode,\n\u001b[0;32m    <a href='file:///c%3A/Users/Brian/AppData/Local/Programs/Python/Python310/lib/site-packages/pandas/io/common.py?line=791'>792</a>\u001b[0m             encoding\u001b[39m=\u001b[39;49mioargs\u001b[39m.\u001b[39;49mencoding,\n\u001b[0;32m    <a href='file:///c%3A/Users/Brian/AppData/Local/Programs/Python/Python310/lib/site-packages/pandas/io/common.py?line=792'>793</a>\u001b[0m             errors\u001b[39m=\u001b[39;49merrors,\n\u001b[0;32m    <a href='file:///c%3A/Users/Brian/AppData/Local/Programs/Python/Python310/lib/site-packages/pandas/io/common.py?line=793'>794</a>\u001b[0m             newline\u001b[39m=\u001b[39;49m\u001b[39m\"\u001b[39;49m\u001b[39m\"\u001b[39;49m,\n\u001b[0;32m    <a href='file:///c%3A/Users/Brian/AppData/Local/Programs/Python/Python310/lib/site-packages/pandas/io/common.py?line=794'>795</a>\u001b[0m         )\n\u001b[0;32m    <a href='file:///c%3A/Users/Brian/AppData/Local/Programs/Python/Python310/lib/site-packages/pandas/io/common.py?line=795'>796</a>\u001b[0m     \u001b[39melse\u001b[39;00m:\n\u001b[0;32m    <a href='file:///c%3A/Users/Brian/AppData/Local/Programs/Python/Python310/lib/site-packages/pandas/io/common.py?line=796'>797</a>\u001b[0m         \u001b[39m# Binary mode\u001b[39;00m\n\u001b[0;32m    <a href='file:///c%3A/Users/Brian/AppData/Local/Programs/Python/Python310/lib/site-packages/pandas/io/common.py?line=797'>798</a>\u001b[0m         handle \u001b[39m=\u001b[39m \u001b[39mopen\u001b[39m(handle, ioargs\u001b[39m.\u001b[39mmode)\n",
      "\u001b[1;31mPermissionError\u001b[0m: [Errno 13] Permission denied: '.'"
     ]
    }
   ],
   "source": [
    "output = completed_forms.drop(columns = completed_forms.columns[-5:])\n",
    "new_col = output[\"CX ID\"].apply(lambda x : student_assigments[x])\n",
    "output.insert(1, \"Assignment\", new_col)\n",
    "output.to_csv(\".\", index = False)"
   ]
  }
 ],
 "metadata": {
  "kernelspec": {
   "display_name": "Python 3.9.7 64-bit",
   "language": "python",
   "name": "python3"
  },
  "language_info": {
   "codemirror_mode": {
    "name": "ipython",
    "version": 3
   },
   "file_extension": ".py",
   "mimetype": "text/x-python",
   "name": "python",
   "nbconvert_exporter": "python",
   "pygments_lexer": "ipython3",
   "version": "3.10.2"
  },
  "vscode": {
   "interpreter": {
    "hash": "11938c6bc6919ae2720b4d5011047913343b08a43b18698fd82dedb0d4417594"
   }
  }
 },
 "nbformat": 4,
 "nbformat_minor": 2
}
