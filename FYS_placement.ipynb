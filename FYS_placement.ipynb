{
 "cells": [
  {
   "cell_type": "markdown",
   "metadata": {},
   "source": [
    "## Pitzer College FYS Placement Program\n",
    "\n",
    "__Authors: Brian Simpkins and Professor Sarah Gilman__\n",
    "\n",
    "__Written in the fall of 2022__"
   ]
  },
  {
   "cell_type": "code",
   "execution_count": 1,
   "metadata": {},
   "outputs": [],
   "source": [
    "# First let's set up some imports\n",
    "import numpy as np\n",
    "import pandas as pd\n",
    "import unicodedata as ud"
   ]
  },
  {
   "cell_type": "code",
   "execution_count": 2,
   "metadata": {},
   "outputs": [],
   "source": [
    "# Now let's collect our data\n",
    "student_data = \"C:/Users/Brian/Documents/2022Fall/FYSplacement/data/FYS Fall 2021 Results - Active Commits 20210719-171403_deidentified.csv\"\n",
    "df = pd.read_csv(student_data)\n",
    "\n",
    "# Separate forms by completion\n",
    "completed_forms = df[df[\"Completed Form\"] != \"No\"]\n",
    "incomplete_forms = df[df[\"Completed Form\"] != \"Yes\"]\n",
    "\n",
    "# Remove df to free memory\n",
    "del df"
   ]
  },
  {
   "cell_type": "code",
   "execution_count": 3,
   "metadata": {},
   "outputs": [],
   "source": [
    "# Convert all classes to normalized unicode\n",
    "completed_forms[\"Preference 1\"] = [ud.normalize(\"NFKC\", x) for x in completed_forms[\"Preference 1\"]]\n",
    "completed_forms[\"Preference 2\"] = [ud.normalize(\"NFKC\", x) for x in completed_forms[\"Preference 2\"]]\n",
    "completed_forms[\"Preference 3\"] = [ud.normalize(\"NFKC\", x) for x in completed_forms[\"Preference 3\"]]\n",
    "completed_forms[\"Preference 4\"] = [ud.normalize(\"NFKC\", x) for x in completed_forms[\"Preference 4\"]]\n",
    "completed_forms[\"Preference 5\"] = [ud.normalize(\"NFKC\", x) for x in completed_forms[\"Preference 5\"]]"
   ]
  },
  {
   "cell_type": "code",
   "execution_count": 6,
   "metadata": {},
   "outputs": [],
   "source": [
    "# Gather a list of all classes\n",
    "classes = set()\n",
    "classes.update(completed_forms[\"Preference 1\"])\n",
    "classes.update(completed_forms[\"Preference 2\"])\n",
    "classes.update(completed_forms[\"Preference 3\"])\n",
    "classes.update(completed_forms[\"Preference 4\"])\n",
    "classes.update(completed_forms[\"Preference 5\"])"
   ]
  },
  {
   "cell_type": "code",
   "execution_count": 29,
   "metadata": {},
   "outputs": [],
   "source": [
    "# Build class - preference dictionary\n",
    "class_pref = {x: {1:0, 2:0, 3:0, 4:0, 5:0} for x in classes}\n",
    "class_pop = {}\n",
    "for i in range(len(completed_forms[\"CX ID\"])):\n",
    "    # add student id to class_pref dict\n",
    "    class_pref[completed_forms[\"Preference 1\"].iloc[i]][1] += 1\n",
    "    class_pref[completed_forms[\"Preference 2\"].iloc[i]][2] += 1\n",
    "    class_pref[completed_forms[\"Preference 3\"].iloc[i]][3] += 1\n",
    "    class_pref[completed_forms[\"Preference 4\"].iloc[i]][4] += 1\n",
    "    class_pref[completed_forms[\"Preference 5\"].iloc[i]][5] += 1\n",
    "\n",
    "# Determine numerical \"popularity\" of courses\n",
    "for currKey in class_pref.keys():\n",
    "    class_pop[currKey] = class_pref[currKey][1] * 3 + class_pref[currKey][2] * 2 + class_pref[currKey][3] * 1.5 + class_pref[currKey][4] * 1.25 + class_pref[currKey][5]\n",
    "\n",
    "# Order from least to most popular\n",
    "class_pop_order_asc = [k for k, v in sorted(class_pop.items(), key=lambda item: item[1])]"
   ]
  }
 ],
 "metadata": {
  "interpreter": {
   "hash": "e0d091042142f08f95fbe24eea5f30d9f84a0503ed0a5ab9d4f63f212faef8cd"
  },
  "kernelspec": {
   "display_name": "Python 3.10.2 64-bit",
   "language": "python",
   "name": "python3"
  },
  "language_info": {
   "codemirror_mode": {
    "name": "ipython",
    "version": 3
   },
   "file_extension": ".py",
   "mimetype": "text/x-python",
   "name": "python",
   "nbconvert_exporter": "python",
   "pygments_lexer": "ipython3",
   "version": "3.10.2"
  },
  "orig_nbformat": 4
 },
 "nbformat": 4,
 "nbformat_minor": 2
}
