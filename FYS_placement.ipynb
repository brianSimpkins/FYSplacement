{
 "cells": [
  {
   "cell_type": "markdown",
   "metadata": {},
   "source": [
    "## Pitzer College FYS Placement Program\n",
    "\n",
    "__Authors: Brian Simpkins and Professor Sarah Gilman__\n",
    "\n",
    "__Written in the fall of 2022__"
   ]
  },
  {
   "cell_type": "code",
   "execution_count": 9,
   "metadata": {},
   "outputs": [],
   "source": [
    "# First let's set up some imports\n",
    "import numpy as np\n",
    "import pandas as pd\n",
    "import unicodedata as ud\n",
    "import math\n",
    "from random import sample"
   ]
  },
  {
   "cell_type": "code",
   "execution_count": 10,
   "metadata": {},
   "outputs": [],
   "source": [
    "# Now let's collect our data\n",
    "student_data = \"C:/Users/Brian/Documents/2022Fall/FYSplacement/data/FYS Fall 2022 Results - Active Commits 20220712-180011_deidentified.csv\"\n",
    "df = pd.read_csv(student_data)\n",
    "\n",
    "# Separate forms by completion\n",
    "completed_forms = df[df[\"Completed Form\"] != \"No\"]\n",
    "incomplete_forms = df[df[\"Completed Form\"] != \"Yes\"]\n",
    "num_students = len(completed_forms)\n",
    "\n",
    "# Remove df to free memory\n",
    "del df"
   ]
  },
  {
   "cell_type": "code",
   "execution_count": 11,
   "metadata": {},
   "outputs": [],
   "source": [
    "# Convert all classes to normalized unicode\n",
    "completed_forms[\"Preference 1\"] = [ud.normalize(\"NFKC\", x) for x in completed_forms[\"Preference 1\"]]\n",
    "completed_forms[\"Preference 2\"] = [ud.normalize(\"NFKC\", x) for x in completed_forms[\"Preference 2\"]]\n",
    "completed_forms[\"Preference 3\"] = [ud.normalize(\"NFKC\", x) for x in completed_forms[\"Preference 3\"]]\n",
    "completed_forms[\"Preference 4\"] = [ud.normalize(\"NFKC\", x) for x in completed_forms[\"Preference 4\"]]\n",
    "completed_forms[\"Preference 5\"] = [ud.normalize(\"NFKC\", x) for x in completed_forms[\"Preference 5\"]]"
   ]
  },
  {
   "cell_type": "code",
   "execution_count": 12,
   "metadata": {},
   "outputs": [],
   "source": [
    "# Gather a list of all classes\n",
    "classes = set()\n",
    "classes.update(completed_forms[\"Preference 1\"])\n",
    "classes.update(completed_forms[\"Preference 2\"])\n",
    "classes.update(completed_forms[\"Preference 3\"])\n",
    "classes.update(completed_forms[\"Preference 4\"])\n",
    "classes.update(completed_forms[\"Preference 5\"])"
   ]
  },
  {
   "cell_type": "code",
   "execution_count": 13,
   "metadata": {},
   "outputs": [],
   "source": [
    "# Determine class size\n",
    "large_class_size = math.ceil(num_students / len(classes))\n",
    "small_class_size = large_class_size - 1\n",
    "small_class_num = len(classes) * large_class_size - num_students"
   ]
  },
  {
   "cell_type": "code",
   "execution_count": 14,
   "metadata": {},
   "outputs": [],
   "source": [
    "# Build class - preference dictionary\n",
    "class_pref = {x: {\"1\":[], \"n1\":0, \"2\":[], \"n2\":0, \"3\":[], \"n3\":0, \"4\":[], \"n4\":0, \"5\":[], \"n5\":0} for x in classes}\n",
    "\n",
    "for i in range(len(completed_forms[\"CX ID\"])):\n",
    "    # add student id to class_pref dict\n",
    "    class_pref[completed_forms[\"Preference 1\"].iloc[i]][\"1\"].append(completed_forms[\"CX ID\"].iloc[i])\n",
    "    class_pref[completed_forms[\"Preference 1\"].iloc[i]][\"n1\"] += 1\n",
    "    class_pref[completed_forms[\"Preference 2\"].iloc[i]][\"n2\"] += 1\n",
    "    class_pref[completed_forms[\"Preference 2\"].iloc[i]][\"2\"].append(completed_forms[\"CX ID\"].iloc[i])\n",
    "    class_pref[completed_forms[\"Preference 3\"].iloc[i]][\"n3\"] += 1\n",
    "    class_pref[completed_forms[\"Preference 3\"].iloc[i]][\"3\"].append(completed_forms[\"CX ID\"].iloc[i])\n",
    "    class_pref[completed_forms[\"Preference 4\"].iloc[i]][\"n4\"] += 1\n",
    "    class_pref[completed_forms[\"Preference 4\"].iloc[i]][\"4\"].append(completed_forms[\"CX ID\"].iloc[i])\n",
    "    class_pref[completed_forms[\"Preference 5\"].iloc[i]][\"n5\"] += 1\n",
    "    class_pref[completed_forms[\"Preference 5\"].iloc[i]][\"5\"].append(completed_forms[\"CX ID\"].iloc[i])\n",
    "\n",
    "# Convert to dataframe\n",
    "class_pref = pd.DataFrame(class_pref).T"
   ]
  },
  {
   "cell_type": "code",
   "execution_count": 15,
   "metadata": {},
   "outputs": [],
   "source": [
    "# Determine popularity at given preference depth\n",
    "class_pref[\"top2\"] = class_pref[\"n1\"] + class_pref[\"n2\"]\n",
    "class_pref[\"top3\"] = class_pref[\"top2\"] + class_pref[\"n3\"]\n",
    "class_pref[\"top4\"] = class_pref[\"top3\"] + class_pref[\"n4\"]\n",
    "class_pref[\"top5\"] = class_pref[\"top4\"] + class_pref[\"n5\"]\n",
    "\n",
    "class_pref = class_pref.sort_values([\"top5\"])"
   ]
  },
  {
   "cell_type": "code",
   "execution_count": 77,
   "metadata": {},
   "outputs": [],
   "source": [
    "# If there aren't enough students to fill a class, reorder and try again!\n",
    "def place_students(class_preferences):\n",
    "\n",
    "    num_small_classes = small_class_num\n",
    "\n",
    "    student_assignments = {}\n",
    "\n",
    "    # Iterate through the classes, starting with the least popular\n",
    "    for class_num, curr_class in enumerate(class_preferences.index):\n",
    "\n",
    "        # Determine the class size - less popular classes will have the smaller class sizes\n",
    "        if num_small_classes > 0:\n",
    "            curr_size = small_class_size\n",
    "            num_small_classes -= 1\n",
    "        else:\n",
    "            curr_size = large_class_size\n",
    "\n",
    "        # Give open spots to students who requested, giving greater weight to higher preference\n",
    "        curr_preference = 1\n",
    "        while curr_size > 0 and curr_preference <= 5:\n",
    "            # Get all students with the current preference level\n",
    "            curr_students = class_preferences.loc[curr_class][str(curr_preference)]\n",
    "            # Remove students who have already been placed\n",
    "            curr_students = [student for student in curr_students if student not in student_assignments]\n",
    "            # If there are more students at this preference level than we are looking for\n",
    "            if len(curr_students) > curr_size:\n",
    "                curr_students = sample(curr_students, curr_size)\n",
    "            \n",
    "            for student in curr_students:\n",
    "                # Assign student\n",
    "                student_assignments[student] = curr_class\n",
    "                # Fill one slot\n",
    "                curr_size -= 1\n",
    "            \n",
    "            curr_preference += 1\n",
    "        \n",
    "        # If we went through all preferences and the class still isn't filled, swap the class up and try again!\n",
    "        if curr_size > 0:\n",
    "            print(\"Class \" + curr_class + \" cannot be filled. Swapping up and trying again!\")\n",
    "            class_preferences = class_preferences.iloc[np.r_[0: class_num - 1, class_num, class_num - 1, class_num + 1 : len(df)]]\n",
    "            return place_students(class_preferences)\n",
    "    \n",
    "    return student_assignments\n"
   ]
  },
  {
   "cell_type": "code",
   "execution_count": 73,
   "metadata": {},
   "outputs": [],
   "source": [
    "# get a score for how \"happy\" people are in their classes\n",
    "def get_score(student_assignments):\n",
    "    total = 0\n",
    "    worst_placement = 0\n",
    "\n",
    "    for student, course in student_assignments.items():\n",
    "        prefs = completed_forms.loc[completed_forms[\"CX ID\"] == student].values.tolist()[0][-5:]\n",
    "        assigned_class = student_assignments[student]\n",
    "        total += prefs.index(assigned_class)\n",
    "\n",
    "        worst_placement = max(worst_placement, prefs.index(assigned_class))\n",
    "    \n",
    "    ave_happiness = total / num_students\n",
    "    return ave_happiness, worst_placement"
   ]
  },
  {
   "cell_type": "code",
   "execution_count": 78,
   "metadata": {},
   "outputs": [],
   "source": [
    "# get a really good student assignment\n",
    "min_student_assignments = {}\n",
    "min_student_happiness = 5\n",
    "min_worst_placement = 5\n",
    "\n",
    "# iterate 500 times, make sure everyone is happy!\n",
    "for i in range(500):\n",
    "    student_assigments = place_students(class_pref.copy())\n",
    "    happiness, worst_placement = get_score(student_assigments)\n",
    "    if worst_placement <= min_worst_placement and happiness <= min_student_happiness:\n",
    "        min_student_assignments = student_assigments\n",
    "        min_worst_placement = worst_placement\n",
    "        min_student_happiness = happiness"
   ]
  }
 ],
 "metadata": {
  "kernelspec": {
   "display_name": "Python 3.9.7 64-bit",
   "language": "python",
   "name": "python3"
  },
  "language_info": {
   "codemirror_mode": {
    "name": "ipython",
    "version": 3
   },
   "file_extension": ".py",
   "mimetype": "text/x-python",
   "name": "python",
   "nbconvert_exporter": "python",
   "pygments_lexer": "ipython3",
   "version": "3.9.7"
  },
  "vscode": {
   "interpreter": {
    "hash": "11938c6bc6919ae2720b4d5011047913343b08a43b18698fd82dedb0d4417594"
   }
  }
 },
 "nbformat": 4,
 "nbformat_minor": 2
}
